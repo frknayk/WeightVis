{
 "cells": [
  {
   "cell_type": "code",
   "execution_count": 5,
   "metadata": {},
   "outputs": [],
   "source": [
    "from brain_viz import Brain\n",
    "from torch_vis import Read_Torch"
   ]
  },
  {
   "cell_type": "code",
   "execution_count": 3,
   "metadata": {},
   "outputs": [
    {
     "name": "stdout",
     "output_type": "stream",
     "text": [
      "\n",
      "\n",
      "*******************************\n",
      "*******************************\n",
      "\u001b[95mSTARTED TO READ TORCH NETWORK !\u001b[0m\n",
      "*******************************\n",
      "*******************************\n",
      "\n",
      "################################\n",
      "\u001b[92mNeural network weights are loaded succesfully !\u001b[0m\n",
      "################################\n",
      "\n",
      "################################\n",
      "\u001b[94mNow trying to detect node weights vs bias weights\u001b[0m\n",
      "################################\n",
      "\n",
      "\u001b[92mNode weights and Bias weights are seperated successfully !\u001b[0m\n",
      "\u001b[1mNODE WEIGHTS\u001b[0m\n",
      "\u001b[4mfc1.weight\u001b[0m\n",
      "\u001b[4mfc2.weight\u001b[0m\n",
      "\u001b[4msteering.weight\u001b[0m\n",
      "\u001b[4macceleration.weight\u001b[0m\n",
      "\u001b[4mbrake.weight\u001b[0m\n",
      "\u001b[1mBIAS WEIGHTS\u001b[0m\n",
      "\u001b[4mfc1.bias\u001b[0m\n",
      "\u001b[4mfc2.bias\u001b[0m\n",
      "\u001b[4msteering.bias\u001b[0m\n",
      "\u001b[4macceleration.bias\u001b[0m\n",
      "\u001b[4mbrake.bias\u001b[0m\n",
      "\n",
      "************************\n"
     ]
    }
   ],
   "source": [
    "torch_weights = Read_Torch(\"./actormodel.pth\")\n",
    "\n",
    "node_weights = torch_weights.weights_list\n",
    "bias_weights = torch_weights.biases_list"
   ]
  },
  {
   "cell_type": "code",
   "execution_count": 6,
   "metadata": {},
   "outputs": [],
   "source": [
    "brain_MLP = Brain(node_weights,bias_weights)"
   ]
  },
  {
   "cell_type": "code",
   "execution_count": null,
   "metadata": {},
   "outputs": [],
   "source": [
    "brain_MLP.visualize(0.01,1000)"
   ]
  }
 ],
 "metadata": {
  "kernelspec": {
   "display_name": "Python 3.5.2 64-bit",
   "language": "python",
   "name": "python35264bit58751a3f014a4ba381e7fb3abdc4b4de"
  },
  "language_info": {
   "codemirror_mode": {
    "name": "ipython",
    "version": 3
   },
   "file_extension": ".py",
   "mimetype": "text/x-python",
   "name": "python",
   "nbconvert_exporter": "python",
   "pygments_lexer": "ipython3",
   "version": "3.5.2"
  }
 },
 "nbformat": 4,
 "nbformat_minor": 2
}
